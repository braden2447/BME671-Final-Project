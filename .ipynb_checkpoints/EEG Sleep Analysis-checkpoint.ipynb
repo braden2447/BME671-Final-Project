{
 "cells": [
  {
   "cell_type": "markdown",
   "id": "02ce6b22",
   "metadata": {},
   "source": [
    "### BME 671L SPAM, Fall 2022\n",
    "## Final Project - EEG Sleep Analysis\n",
    "#### Authors: Braden Garrison, Jerry Yang, Trevor Alston\n"
   ]
  },
  {
   "cell_type": "code",
   "execution_count": 1,
   "id": "fa890345",
   "metadata": {},
   "outputs": [],
   "source": [
    "# Set up the environment, import all packages you need in this worksheet.\n",
    "import numpy as np\n",
    "import math\n",
    "from scipy import signal, misc\n",
    "import scipy.io\n",
    "from scipy.signal import find_peaks\n",
    "import matplotlib.pyplot as plt\n",
    "import audio2numpy as a2n"
   ]
  },
  {
   "cell_type": "code",
   "execution_count": null,
   "id": "49584d01",
   "metadata": {},
   "outputs": [],
   "source": []
  }
 ],
 "metadata": {
  "kernelspec": {
   "display_name": "Python 3 (ipykernel)",
   "language": "python",
   "name": "python3"
  },
  "language_info": {
   "codemirror_mode": {
    "name": "ipython",
    "version": 3
   },
   "file_extension": ".py",
   "mimetype": "text/x-python",
   "name": "python",
   "nbconvert_exporter": "python",
   "pygments_lexer": "ipython3",
   "version": "3.9.12"
  }
 },
 "nbformat": 4,
 "nbformat_minor": 5
}
