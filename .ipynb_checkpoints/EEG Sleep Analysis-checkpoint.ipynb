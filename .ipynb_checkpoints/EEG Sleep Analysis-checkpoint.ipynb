{
 "cells": [
  {
   "cell_type": "markdown",
   "id": "8fb1d082",
   "metadata": {},
   "source": [
    "### BME 671L SPAM, Fall 2022\n",
    "## Final Project - EEG Sleep Analysis\n",
    "#### Authors: Braden Garrison, Jerry Yang, Trevor Alston\n"
   ]
  },
  {
   "cell_type": "markdown",
   "id": "0606c3c0",
   "metadata": {},
   "source": [
    "### Project Description:\n",
    "\n",
    "The aim of this project is to construct an algorithm that will take in raw sleep EEG data as an input, clean up and transform the data, and quantify the amount of time spent in each specific cycle of sleep. This is a signficant task because sleep analysis is used to gauge quality of sleep depending on the number of hours spent in certain sleep stages. We plan to clean the raw EEG data using certain filtering techniques explored in lab, and we will identify specific sleep stage signals based on their dominant frequency ranges."
   ]
  },
  {
   "cell_type": "code",
   "execution_count": 1,
   "id": "ab200483",
   "metadata": {},
   "outputs": [],
   "source": [
    "# Set up the environment, import all packages you need in this worksheet.\n",
    "import numpy as np\n",
    "import math\n",
    "from scipy import signal, misc\n",
    "import scipy.io\n",
    "from scipy.signal import find_peaks\n",
    "import matplotlib.pyplot as plt\n",
    "import audio2numpy as a2n"
   ]
  },
  {
   "cell_type": "code",
   "execution_count": null,
   "id": "47454f5a",
   "metadata": {},
   "outputs": [],
   "source": [
    "# Import data\n",
    "# Possible data sources: \n",
    "# https://physionet.org/content/capslpdb/1.0.0/\n",
    "# https://openneuro.org/datasets/ds003768/versions/1.0.9"
   ]
  }
 ],
 "metadata": {
  "kernelspec": {
   "display_name": "Python 3 (ipykernel)",
   "language": "python",
   "name": "python3"
  },
  "language_info": {
   "codemirror_mode": {
    "name": "ipython",
    "version": 3
   },
   "file_extension": ".py",
   "mimetype": "text/x-python",
   "name": "python",
   "nbconvert_exporter": "python",
   "pygments_lexer": "ipython3",
   "version": "3.9.12"
  }
 },
 "nbformat": 4,
 "nbformat_minor": 5
}
