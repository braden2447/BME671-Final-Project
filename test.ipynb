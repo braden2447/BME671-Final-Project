{
 "cells": [
  {
   "cell_type": "markdown",
   "metadata": {},
   "source": [
    "# Test file\n",
    "### Run any code you would like to test"
   ]
  },
  {
   "cell_type": "code",
   "execution_count": 1,
   "metadata": {},
   "outputs": [],
   "source": [
    "import mne\n"
   ]
  },
  {
   "cell_type": "code",
   "execution_count": 2,
   "metadata": {},
   "outputs": [
    {
     "ename": "NotImplementedError",
     "evalue": "Only EDF files are supported, got st.",
     "output_type": "error",
     "traceback": [
      "\u001b[0;31m---------------------------------------------------------------------------\u001b[0m",
      "\u001b[0;31mNotImplementedError\u001b[0m                       Traceback (most recent call last)",
      "\u001b[1;32m/Users/jerryyang/Documents/python/BME671-Final-Project/test.ipynb Cell 3\u001b[0m in \u001b[0;36m<cell line: 1>\u001b[0;34m()\u001b[0m\n\u001b[0;32m----> <a href='vscode-notebook-cell:/Users/jerryyang/Documents/python/BME671-Final-Project/test.ipynb#W3sZmlsZQ%3D%3D?line=0'>1</a>\u001b[0m data \u001b[39m=\u001b[39m mne\u001b[39m.\u001b[39;49mio\u001b[39m.\u001b[39;49mread_raw_edf(\u001b[39m\"\u001b[39;49m\u001b[39mdata/n1.edf.st\u001b[39;49m\u001b[39m\"\u001b[39;49m)\n",
      "File \u001b[0;32m/Library/Frameworks/Python.framework/Versions/3.10/lib/python3.10/site-packages/mne/io/edf/edf.py:1411\u001b[0m, in \u001b[0;36mread_raw_edf\u001b[0;34m(input_fname, eog, misc, stim_channel, exclude, infer_types, include, preload, units, encoding, verbose)\u001b[0m\n\u001b[1;32m   1409\u001b[0m ext \u001b[39m=\u001b[39m os\u001b[39m.\u001b[39mpath\u001b[39m.\u001b[39msplitext(input_fname)[\u001b[39m1\u001b[39m][\u001b[39m1\u001b[39m:]\u001b[39m.\u001b[39mlower()\n\u001b[1;32m   1410\u001b[0m \u001b[39mif\u001b[39;00m ext \u001b[39m!=\u001b[39m \u001b[39m'\u001b[39m\u001b[39medf\u001b[39m\u001b[39m'\u001b[39m:\n\u001b[0;32m-> 1411\u001b[0m     \u001b[39mraise\u001b[39;00m \u001b[39mNotImplementedError\u001b[39;00m(\u001b[39mf\u001b[39m\u001b[39m'\u001b[39m\u001b[39mOnly EDF files are supported, got \u001b[39m\u001b[39m{\u001b[39;00mext\u001b[39m}\u001b[39;00m\u001b[39m.\u001b[39m\u001b[39m'\u001b[39m)\n\u001b[1;32m   1412\u001b[0m \u001b[39mreturn\u001b[39;00m RawEDF(input_fname\u001b[39m=\u001b[39minput_fname, eog\u001b[39m=\u001b[39meog, misc\u001b[39m=\u001b[39mmisc,\n\u001b[1;32m   1413\u001b[0m               stim_channel\u001b[39m=\u001b[39mstim_channel, exclude\u001b[39m=\u001b[39mexclude,\n\u001b[1;32m   1414\u001b[0m               infer_types\u001b[39m=\u001b[39minfer_types, preload\u001b[39m=\u001b[39mpreload, include\u001b[39m=\u001b[39minclude,\n\u001b[1;32m   1415\u001b[0m               units\u001b[39m=\u001b[39munits, encoding\u001b[39m=\u001b[39mencoding, verbose\u001b[39m=\u001b[39mverbose)\n",
      "\u001b[0;31mNotImplementedError\u001b[0m: Only EDF files are supported, got st."
     ]
    }
   ],
   "source": [
    "data = mne.io.read_raw_edf(\"data/n1.edf\")"
   ]
  }
 ],
 "metadata": {
  "kernelspec": {
   "display_name": "Python 3.10.4 64-bit",
   "language": "python",
   "name": "python3"
  },
  "language_info": {
   "codemirror_mode": {
    "name": "ipython",
    "version": 3
   },
   "file_extension": ".py",
   "mimetype": "text/x-python",
   "name": "python",
   "nbconvert_exporter": "python",
   "pygments_lexer": "ipython3",
   "version": "3.10.4"
  },
  "orig_nbformat": 4,
  "vscode": {
   "interpreter": {
    "hash": "aee8b7b246df8f9039afb4144a1f6fd8d2ca17a180786b69acc140d282b71a49"
   }
  }
 },
 "nbformat": 4,
 "nbformat_minor": 2
}
